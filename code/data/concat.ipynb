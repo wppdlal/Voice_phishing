{
 "cells": [
  {
   "cell_type": "code",
   "execution_count": 3,
   "metadata": {},
   "outputs": [],
   "source": [
    "import pandas as pd"
   ]
  },
  {
   "cell_type": "code",
   "execution_count": 3,
   "metadata": {},
   "outputs": [
    {
     "data": {
      "text/html": [
       "<div>\n",
       "<style scoped>\n",
       "    .dataframe tbody tr th:only-of-type {\n",
       "        vertical-align: middle;\n",
       "    }\n",
       "\n",
       "    .dataframe tbody tr th {\n",
       "        vertical-align: top;\n",
       "    }\n",
       "\n",
       "    .dataframe thead th {\n",
       "        text-align: right;\n",
       "    }\n",
       "</style>\n",
       "<table border=\"1\" class=\"dataframe\">\n",
       "  <thead>\n",
       "    <tr style=\"text-align: right;\">\n",
       "      <th></th>\n",
       "      <th>txt</th>\n",
       "      <th>label</th>\n",
       "    </tr>\n",
       "  </thead>\n",
       "  <tbody>\n",
       "    <tr>\n",
       "      <th>0</th>\n",
       "      <td>제 누구라고요 서울 중앙지검이라고요 검찰청입니다 네 본인 그 명의 전용 사건 관련해...</td>\n",
       "      <td>1</td>\n",
       "    </tr>\n",
       "    <tr>\n",
       "      <th>1</th>\n",
       "      <td>여보세요 어 네 김다미실 맞으신가요 네 수고하십니다 여기 서울지검 백승 수관입니다 ...</td>\n",
       "      <td>1</td>\n",
       "    </tr>\n",
       "  </tbody>\n",
       "</table>\n",
       "</div>"
      ],
      "text/plain": [
       "                                                 txt  label\n",
       "0  제 누구라고요 서울 중앙지검이라고요 검찰청입니다 네 본인 그 명의 전용 사건 관련해...      1\n",
       "1  여보세요 어 네 김다미실 맞으신가요 네 수고하십니다 여기 서울지검 백승 수관입니다 ...      1"
      ]
     },
     "execution_count": 3,
     "metadata": {},
     "output_type": "execute_result"
    }
   ],
   "source": [
    "add_df = pd.read_csv(r'C:\\Project\\phishing_bum\\phishing-bum\\data\\유튜브보이스피싱.csv')\n",
    "add_df.head(2)"
   ]
  },
  {
   "cell_type": "code",
   "execution_count": 4,
   "metadata": {},
   "outputs": [
    {
     "data": {
      "text/plain": [
       "(41, 2)"
      ]
     },
     "execution_count": 4,
     "metadata": {},
     "output_type": "execute_result"
    }
   ],
   "source": [
    "add_df.shape"
   ]
  },
  {
   "cell_type": "code",
   "execution_count": 5,
   "metadata": {},
   "outputs": [
    {
     "data": {
      "text/html": [
       "<div>\n",
       "<style scoped>\n",
       "    .dataframe tbody tr th:only-of-type {\n",
       "        vertical-align: middle;\n",
       "    }\n",
       "\n",
       "    .dataframe tbody tr th {\n",
       "        vertical-align: top;\n",
       "    }\n",
       "\n",
       "    .dataframe thead th {\n",
       "        text-align: right;\n",
       "    }\n",
       "</style>\n",
       "<table border=\"1\" class=\"dataframe\">\n",
       "  <thead>\n",
       "    <tr style=\"text-align: right;\">\n",
       "      <th></th>\n",
       "      <th>txt</th>\n",
       "      <th>label</th>\n",
       "    </tr>\n",
       "  </thead>\n",
       "  <tbody>\n",
       "    <tr>\n",
       "      <th>0</th>\n",
       "      <td>네 본인께서는 조사를 받으셔야 되고요 네 알겠습니다 그럼 이어서 말씀드릴게요 예 앞...</td>\n",
       "      <td>1</td>\n",
       "    </tr>\n",
       "    <tr>\n",
       "      <th>1</th>\n",
       "      <td>서울 중앙시간에 박관입니다 네 예 다름이 아니라 그 본인관된 불법 명의 사건이 지금...</td>\n",
       "      <td>1</td>\n",
       "    </tr>\n",
       "  </tbody>\n",
       "</table>\n",
       "</div>"
      ],
      "text/plain": [
       "                                                 txt  label\n",
       "0  네 본인께서는 조사를 받으셔야 되고요 네 알겠습니다 그럼 이어서 말씀드릴게요 예 앞...      1\n",
       "1  서울 중앙시간에 박관입니다 네 예 다름이 아니라 그 본인관된 불법 명의 사건이 지금...      1"
      ]
     },
     "execution_count": 5,
     "metadata": {},
     "output_type": "execute_result"
    }
   ],
   "source": [
    "origin_df = pd.read_csv(r'C:\\Project\\phishing_bum\\phishing-bum\\data\\raw.csv')\n",
    "origin_df.head(2)"
   ]
  },
  {
   "cell_type": "code",
   "execution_count": 6,
   "metadata": {},
   "outputs": [
    {
     "data": {
      "text/plain": [
       "(55833, 2)"
      ]
     },
     "execution_count": 6,
     "metadata": {},
     "output_type": "execute_result"
    }
   ],
   "source": [
    "origin_df.shape"
   ]
  },
  {
   "cell_type": "code",
   "execution_count": 7,
   "metadata": {},
   "outputs": [
    {
     "data": {
      "text/html": [
       "<div>\n",
       "<style scoped>\n",
       "    .dataframe tbody tr th:only-of-type {\n",
       "        vertical-align: middle;\n",
       "    }\n",
       "\n",
       "    .dataframe tbody tr th {\n",
       "        vertical-align: top;\n",
       "    }\n",
       "\n",
       "    .dataframe thead th {\n",
       "        text-align: right;\n",
       "    }\n",
       "</style>\n",
       "<table border=\"1\" class=\"dataframe\">\n",
       "  <thead>\n",
       "    <tr style=\"text-align: right;\">\n",
       "      <th></th>\n",
       "      <th>txt</th>\n",
       "      <th>label</th>\n",
       "    </tr>\n",
       "  </thead>\n",
       "  <tbody>\n",
       "    <tr>\n",
       "      <th>0</th>\n",
       "      <td>제 누구라고요 서울 중앙지검이라고요 검찰청입니다 네 본인 그 명의 전용 사건 관련해...</td>\n",
       "      <td>1</td>\n",
       "    </tr>\n",
       "    <tr>\n",
       "      <th>1</th>\n",
       "      <td>여보세요 어 네 김다미실 맞으신가요 네 수고하십니다 여기 서울지검 백승 수관입니다 ...</td>\n",
       "      <td>1</td>\n",
       "    </tr>\n",
       "  </tbody>\n",
       "</table>\n",
       "</div>"
      ],
      "text/plain": [
       "                                                 txt  label\n",
       "0  제 누구라고요 서울 중앙지검이라고요 검찰청입니다 네 본인 그 명의 전용 사건 관련해...      1\n",
       "1  여보세요 어 네 김다미실 맞으신가요 네 수고하십니다 여기 서울지검 백승 수관입니다 ...      1"
      ]
     },
     "execution_count": 7,
     "metadata": {},
     "output_type": "execute_result"
    }
   ],
   "source": [
    "fin_df = pd.concat([add_df, origin_df], axis=0)\n",
    "fin_df.head(2)"
   ]
  },
  {
   "cell_type": "code",
   "execution_count": 8,
   "metadata": {},
   "outputs": [
    {
     "data": {
      "text/plain": [
       "(55874, 2)"
      ]
     },
     "execution_count": 8,
     "metadata": {},
     "output_type": "execute_result"
    }
   ],
   "source": [
    "fin_df.shape"
   ]
  },
  {
   "cell_type": "code",
   "execution_count": 9,
   "metadata": {},
   "outputs": [],
   "source": [
    "# save fin dataset\n",
    "fin_df.to_csv(r'C:\\Project\\phishing_bum\\phishing-bum\\data\\fin.csv', index=False)"
   ]
  },
  {
   "cell_type": "code",
   "execution_count": 15,
   "metadata": {},
   "outputs": [
    {
     "data": {
      "text/html": [
       "<div>\n",
       "<style scoped>\n",
       "    .dataframe tbody tr th:only-of-type {\n",
       "        vertical-align: middle;\n",
       "    }\n",
       "\n",
       "    .dataframe tbody tr th {\n",
       "        vertical-align: top;\n",
       "    }\n",
       "\n",
       "    .dataframe thead th {\n",
       "        text-align: right;\n",
       "    }\n",
       "</style>\n",
       "<table border=\"1\" class=\"dataframe\">\n",
       "  <thead>\n",
       "    <tr style=\"text-align: right;\">\n",
       "      <th></th>\n",
       "      <th>txt</th>\n",
       "      <th>label</th>\n",
       "    </tr>\n",
       "  </thead>\n",
       "  <tbody>\n",
       "    <tr>\n",
       "      <th>0</th>\n",
       "      <td>제 누구라고요 서울 중앙지검이라고요 검찰청입니다 네 본인 그 명의 전용 사건 관련해...</td>\n",
       "      <td>1</td>\n",
       "    </tr>\n",
       "    <tr>\n",
       "      <th>1</th>\n",
       "      <td>여보세요 어 네 김다미실 맞으신가요 네 수고하십니다 여기 서울지검 백승 수관입니다 ...</td>\n",
       "      <td>1</td>\n",
       "    </tr>\n",
       "  </tbody>\n",
       "</table>\n",
       "</div>"
      ],
      "text/plain": [
       "                                                 txt  label\n",
       "0  제 누구라고요 서울 중앙지검이라고요 검찰청입니다 네 본인 그 명의 전용 사건 관련해...      1\n",
       "1  여보세요 어 네 김다미실 맞으신가요 네 수고하십니다 여기 서울지검 백승 수관입니다 ...      1"
      ]
     },
     "execution_count": 15,
     "metadata": {},
     "output_type": "execute_result"
    }
   ],
   "source": [
    "# load df\n",
    "load_df = pd.read_csv(r'C:\\Project\\phishing_bum\\phishing-bum\\data\\fin.csv')\n",
    "load_df.head(2)"
   ]
  },
  {
   "cell_type": "code",
   "execution_count": 13,
   "metadata": {},
   "outputs": [
    {
     "data": {
      "text/plain": [
       "(55874, 2)"
      ]
     },
     "execution_count": 13,
     "metadata": {},
     "output_type": "execute_result"
    }
   ],
   "source": [
    "# check df shape\n",
    "load_df.shape"
   ]
  },
  {
   "cell_type": "code",
   "execution_count": 14,
   "metadata": {},
   "outputs": [
    {
     "data": {
      "text/plain": [
       "((55310, 2), (564, 2))"
      ]
     },
     "execution_count": 14,
     "metadata": {},
     "output_type": "execute_result"
    }
   ],
   "source": [
    "class0 = load_df[load_df['label'] == 0]\n",
    "class1 = load_df[load_df['label'] == 1] # phishing data\n",
    "class0.shape, class1.shape"
   ]
  },
  {
   "attachments": {},
   "cell_type": "markdown",
   "metadata": {},
   "source": [
    "- augmentation test"
   ]
  },
  {
   "cell_type": "code",
   "execution_count": 13,
   "metadata": {},
   "outputs": [
    {
     "data": {
      "text/html": [
       "<div>\n",
       "<style scoped>\n",
       "    .dataframe tbody tr th:only-of-type {\n",
       "        vertical-align: middle;\n",
       "    }\n",
       "\n",
       "    .dataframe tbody tr th {\n",
       "        vertical-align: top;\n",
       "    }\n",
       "\n",
       "    .dataframe thead th {\n",
       "        text-align: right;\n",
       "    }\n",
       "</style>\n",
       "<table border=\"1\" class=\"dataframe\">\n",
       "  <thead>\n",
       "    <tr style=\"text-align: right;\">\n",
       "      <th></th>\n",
       "      <th>label</th>\n",
       "    </tr>\n",
       "  </thead>\n",
       "  <tbody>\n",
       "    <tr>\n",
       "      <th>0</th>\n",
       "      <td>1</td>\n",
       "    </tr>\n",
       "    <tr>\n",
       "      <th>1</th>\n",
       "      <td>1</td>\n",
       "    </tr>\n",
       "    <tr>\n",
       "      <th>2</th>\n",
       "      <td>1</td>\n",
       "    </tr>\n",
       "  </tbody>\n",
       "</table>\n",
       "</div>"
      ],
      "text/plain": [
       "   label\n",
       "0      1\n",
       "1      1\n",
       "2      1"
      ]
     },
     "execution_count": 13,
     "metadata": {},
     "output_type": "execute_result"
    }
   ],
   "source": [
    "sample = pd.DataFrame({'label' : [1] * 3})\n",
    "sample"
   ]
  },
  {
   "cell_type": "code",
   "execution_count": 41,
   "metadata": {},
   "outputs": [
    {
     "data": {
      "text/html": [
       "<div>\n",
       "<style scoped>\n",
       "    .dataframe tbody tr th:only-of-type {\n",
       "        vertical-align: middle;\n",
       "    }\n",
       "\n",
       "    .dataframe tbody tr th {\n",
       "        vertical-align: top;\n",
       "    }\n",
       "\n",
       "    .dataframe thead th {\n",
       "        text-align: right;\n",
       "    }\n",
       "</style>\n",
       "<table border=\"1\" class=\"dataframe\">\n",
       "  <thead>\n",
       "    <tr style=\"text-align: right;\">\n",
       "      <th></th>\n",
       "      <th>txt</th>\n",
       "      <th>label</th>\n",
       "    </tr>\n",
       "  </thead>\n",
       "  <tbody>\n",
       "    <tr>\n",
       "      <th>0</th>\n",
       "      <td>제 누구라고요 서울 중앙지검이라고요 검찰청입니다 네 본인 그 명의 전용 사건 관련해...</td>\n",
       "      <td>1</td>\n",
       "    </tr>\n",
       "    <tr>\n",
       "      <th>1</th>\n",
       "      <td>여보세요 어 네 김다미실 맞으신가요 네 수고하십니다 여기 서울지검 백승 수관입니다 ...</td>\n",
       "      <td>1</td>\n",
       "    </tr>\n",
       "    <tr>\n",
       "      <th>2</th>\n",
       "      <td>네 수고하십니다 지금 전화드린 곳은 강사찰 사과에서 연락을 드렸고요 저는 한주동이라...</td>\n",
       "      <td>1</td>\n",
       "    </tr>\n",
       "    <tr>\n",
       "      <th>3</th>\n",
       "      <td>엠지 새마을금고입니다 고객님 네 고객님 다름이 아니시고요 지금 정부에서 지원하나 마...</td>\n",
       "      <td>1</td>\n",
       "    </tr>\n",
       "    <tr>\n",
       "      <th>4</th>\n",
       "      <td>여보세요 십니까 네 무슨 일이세요 예 수고하십니다 서울 중앙직원 김영준 수사관입니다...</td>\n",
       "      <td>1</td>\n",
       "    </tr>\n",
       "    <tr>\n",
       "      <th>...</th>\n",
       "      <td>...</td>\n",
       "      <td>...</td>\n",
       "    </tr>\n",
       "    <tr>\n",
       "      <th>55869</th>\n",
       "      <td>코로나19 검사를 받을 방법이 있습니까? 거주 지역의 보건소에서 검사받으실 수 있어...</td>\n",
       "      <td>0</td>\n",
       "    </tr>\n",
       "    <tr>\n",
       "      <th>55870</th>\n",
       "      <td>안녕하세요 코로나 치료비 관련해서 문의드릴려고 하는데요. 어떻게 하나요? 치료비에 ...</td>\n",
       "      <td>0</td>\n",
       "    </tr>\n",
       "    <tr>\n",
       "      <th>55871</th>\n",
       "      <td>선진국에서 코로나 백신 사재기 하고 있다는데 진짠가요?  어떤 코로나 백신을 말씀하...</td>\n",
       "      <td>0</td>\n",
       "    </tr>\n",
       "    <tr>\n",
       "      <th>55872</th>\n",
       "      <td>사장님이 코로나 때문에 가게를 쉰다고 해서요.  제가 휴업수당을 받을 수 있을까요?...</td>\n",
       "      <td>0</td>\n",
       "    </tr>\n",
       "    <tr>\n",
       "      <th>55873</th>\n",
       "      <td>안녕하세요. 무엇을 도와드릴까요? 이번에 코로나가 걸려 입원하게 되어 전화드렸습니다...</td>\n",
       "      <td>0</td>\n",
       "    </tr>\n",
       "  </tbody>\n",
       "</table>\n",
       "<p>55874 rows × 2 columns</p>\n",
       "</div>"
      ],
      "text/plain": [
       "                                                     txt  label\n",
       "0      제 누구라고요 서울 중앙지검이라고요 검찰청입니다 네 본인 그 명의 전용 사건 관련해...      1\n",
       "1      여보세요 어 네 김다미실 맞으신가요 네 수고하십니다 여기 서울지검 백승 수관입니다 ...      1\n",
       "2      네 수고하십니다 지금 전화드린 곳은 강사찰 사과에서 연락을 드렸고요 저는 한주동이라...      1\n",
       "3      엠지 새마을금고입니다 고객님 네 고객님 다름이 아니시고요 지금 정부에서 지원하나 마...      1\n",
       "4      여보세요 십니까 네 무슨 일이세요 예 수고하십니다 서울 중앙직원 김영준 수사관입니다...      1\n",
       "...                                                  ...    ...\n",
       "55869  코로나19 검사를 받을 방법이 있습니까? 거주 지역의 보건소에서 검사받으실 수 있어...      0\n",
       "55870  안녕하세요 코로나 치료비 관련해서 문의드릴려고 하는데요. 어떻게 하나요? 치료비에 ...      0\n",
       "55871  선진국에서 코로나 백신 사재기 하고 있다는데 진짠가요?  어떤 코로나 백신을 말씀하...      0\n",
       "55872  사장님이 코로나 때문에 가게를 쉰다고 해서요.  제가 휴업수당을 받을 수 있을까요?...      0\n",
       "55873  안녕하세요. 무엇을 도와드릴까요? 이번에 코로나가 걸려 입원하게 되어 전화드렸습니다...      0\n",
       "\n",
       "[55874 rows x 2 columns]"
      ]
     },
     "execution_count": 41,
     "metadata": {},
     "output_type": "execute_result"
    }
   ],
   "source": [
    "load_df"
   ]
  },
  {
   "cell_type": "code",
   "execution_count": 62,
   "metadata": {},
   "outputs": [
    {
     "data": {
      "text/plain": [
       "Int64Index([  0,   1,   2,   3,   4,   5,   6,   7,   8,   9,\n",
       "            ...\n",
       "            554, 555, 556, 557, 558, 559, 560, 561, 562, 563],\n",
       "           dtype='int64', length=564)"
      ]
     },
     "execution_count": 62,
     "metadata": {},
     "output_type": "execute_result"
    }
   ],
   "source": [
    "idx = load_df[load_df['label'] == 1].index\n",
    "idx"
   ]
  },
  {
   "cell_type": "code",
   "execution_count": 66,
   "metadata": {},
   "outputs": [
    {
     "data": {
      "text/html": [
       "<div>\n",
       "<style scoped>\n",
       "    .dataframe tbody tr th:only-of-type {\n",
       "        vertical-align: middle;\n",
       "    }\n",
       "\n",
       "    .dataframe tbody tr th {\n",
       "        vertical-align: top;\n",
       "    }\n",
       "\n",
       "    .dataframe thead th {\n",
       "        text-align: right;\n",
       "    }\n",
       "</style>\n",
       "<table border=\"1\" class=\"dataframe\">\n",
       "  <thead>\n",
       "    <tr style=\"text-align: right;\">\n",
       "      <th></th>\n",
       "      <th>txt</th>\n",
       "      <th>label</th>\n",
       "    </tr>\n",
       "  </thead>\n",
       "  <tbody>\n",
       "    <tr>\n",
       "      <th>0</th>\n",
       "      <td>제 누구라고요 서울 중앙지검이라고요 검찰청입니다 네 본인 그 명의 전용 사건 관련해...</td>\n",
       "      <td>1</td>\n",
       "    </tr>\n",
       "    <tr>\n",
       "      <th>1</th>\n",
       "      <td>여보세요 어 네 김다미실 맞으신가요 네 수고하십니다 여기 서울지검 백승 수관입니다 ...</td>\n",
       "      <td>1</td>\n",
       "    </tr>\n",
       "    <tr>\n",
       "      <th>2</th>\n",
       "      <td>네 수고하십니다 지금 전화드린 곳은 강사찰 사과에서 연락을 드렸고요 저는 한주동이라...</td>\n",
       "      <td>1</td>\n",
       "    </tr>\n",
       "    <tr>\n",
       "      <th>4</th>\n",
       "      <td>여보세요 십니까 네 무슨 일이세요 예 수고하십니다 서울 중앙직원 김영준 수사관입니다...</td>\n",
       "      <td>1</td>\n",
       "    </tr>\n",
       "  </tbody>\n",
       "</table>\n",
       "</div>"
      ],
      "text/plain": [
       "                                                 txt  label\n",
       "0  제 누구라고요 서울 중앙지검이라고요 검찰청입니다 네 본인 그 명의 전용 사건 관련해...      1\n",
       "1  여보세요 어 네 김다미실 맞으신가요 네 수고하십니다 여기 서울지검 백승 수관입니다 ...      1\n",
       "2  네 수고하십니다 지금 전화드린 곳은 강사찰 사과에서 연락을 드렸고요 저는 한주동이라...      1\n",
       "4  여보세요 십니까 네 무슨 일이세요 예 수고하십니다 서울 중앙직원 김영준 수사관입니다...      1"
      ]
     },
     "execution_count": 66,
     "metadata": {},
     "output_type": "execute_result"
    }
   ],
   "source": [
    "l = [0, 1, 2, 4]\n",
    "load_df.iloc[l]"
   ]
  },
  {
   "cell_type": "code",
   "execution_count": null,
   "metadata": {},
   "outputs": [],
   "source": []
  }
 ],
 "metadata": {
  "kernelspec": {
   "display_name": "Python 3",
   "language": "python",
   "name": "python3"
  },
  "language_info": {
   "codemirror_mode": {
    "name": "ipython",
    "version": 3
   },
   "file_extension": ".py",
   "mimetype": "text/x-python",
   "name": "python",
   "nbconvert_exporter": "python",
   "pygments_lexer": "ipython3",
   "version": "3.8.7 (tags/v3.8.7:6503f05, Dec 21 2020, 17:59:51) [MSC v.1928 64 bit (AMD64)]"
  },
  "orig_nbformat": 4,
  "vscode": {
   "interpreter": {
    "hash": "96eb5b29c2a1520fc980803f72dc128aee622a4639e90f76c7a930bd525efed1"
   }
  }
 },
 "nbformat": 4,
 "nbformat_minor": 2
}
