{
 "cells": [
  {
   "cell_type": "code",
   "execution_count": 1,
   "metadata": {},
   "outputs": [],
   "source": [
    "import pandas as pd"
   ]
  },
  {
   "cell_type": "code",
   "execution_count": 2,
   "metadata": {},
   "outputs": [
    {
     "data": {
      "text/html": [
       "<div>\n",
       "<style scoped>\n",
       "    .dataframe tbody tr th:only-of-type {\n",
       "        vertical-align: middle;\n",
       "    }\n",
       "\n",
       "    .dataframe tbody tr th {\n",
       "        vertical-align: top;\n",
       "    }\n",
       "\n",
       "    .dataframe thead th {\n",
       "        text-align: right;\n",
       "    }\n",
       "</style>\n",
       "<table border=\"1\" class=\"dataframe\">\n",
       "  <thead>\n",
       "    <tr style=\"text-align: right;\">\n",
       "      <th></th>\n",
       "      <th>txt</th>\n",
       "      <th>label</th>\n",
       "    </tr>\n",
       "  </thead>\n",
       "  <tbody>\n",
       "    <tr>\n",
       "      <th>0</th>\n",
       "      <td>네 본인께서는 조사를 받으셔야 되고요 네 알겠습니다 그럼 이어서 말씀드릴게요 예 앞...</td>\n",
       "      <td>1</td>\n",
       "    </tr>\n",
       "    <tr>\n",
       "      <th>1</th>\n",
       "      <td>서울 중앙시간에 박관입니다 네 예 다름이 아니라 그 본인관된 불법 명의 사건이 지금...</td>\n",
       "      <td>1</td>\n",
       "    </tr>\n",
       "    <tr>\n",
       "      <th>2</th>\n",
       "      <td>여보세요 응 여기 강남서 사회버수사과에요 어디요 강남서 쌀이사가요 강남서 네 사이버...</td>\n",
       "      <td>1</td>\n",
       "    </tr>\n",
       "    <tr>\n",
       "      <th>3</th>\n",
       "      <td>예 통화 가능하십니까 네 어디시라고요 대검찰 전 금융 범죄 수작과요 네 예 지금 통...</td>\n",
       "      <td>1</td>\n",
       "    </tr>\n",
       "    <tr>\n",
       "      <th>4</th>\n",
       "      <td>네 본인 맞으시고요 네 맞습니다 네 저는 담당검사 김중기 검사입니다 노케이어가 들어...</td>\n",
       "      <td>1</td>\n",
       "    </tr>\n",
       "  </tbody>\n",
       "</table>\n",
       "</div>"
      ],
      "text/plain": [
       "                                                 txt  label\n",
       "0  네 본인께서는 조사를 받으셔야 되고요 네 알겠습니다 그럼 이어서 말씀드릴게요 예 앞...      1\n",
       "1  서울 중앙시간에 박관입니다 네 예 다름이 아니라 그 본인관된 불법 명의 사건이 지금...      1\n",
       "2  여보세요 응 여기 강남서 사회버수사과에요 어디요 강남서 쌀이사가요 강남서 네 사이버...      1\n",
       "3  예 통화 가능하십니까 네 어디시라고요 대검찰 전 금융 범죄 수작과요 네 예 지금 통...      1\n",
       "4  네 본인 맞으시고요 네 맞습니다 네 저는 담당검사 김중기 검사입니다 노케이어가 들어...      1"
      ]
     },
     "execution_count": 2,
     "metadata": {},
     "output_type": "execute_result"
    }
   ],
   "source": [
    "df = pd.read_csv(r'C:\\Project\\phishing_bum\\phishing-bum\\data\\raw.csv')\n",
    "df.head(5)"
   ]
  },
  {
   "cell_type": "code",
   "execution_count": null,
   "metadata": {},
   "outputs": [],
   "source": []
  }
 ],
 "metadata": {
  "kernelspec": {
   "display_name": "Python 3.8.7 64-bit",
   "language": "python",
   "name": "python3"
  },
  "language_info": {
   "codemirror_mode": {
    "name": "ipython",
    "version": 3
   },
   "file_extension": ".py",
   "mimetype": "text/x-python",
   "name": "python",
   "nbconvert_exporter": "python",
   "pygments_lexer": "ipython3",
   "version": "3.8.7"
  },
  "orig_nbformat": 4,
  "vscode": {
   "interpreter": {
    "hash": "96eb5b29c2a1520fc980803f72dc128aee622a4639e90f76c7a930bd525efed1"
   }
  }
 },
 "nbformat": 4,
 "nbformat_minor": 2
}
